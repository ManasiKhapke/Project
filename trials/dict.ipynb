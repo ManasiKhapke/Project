# Import all modules
%matplotlib inline
import random
import pylab
import pickle as pkl
from PIL import Image
import numpy as np
import pandas as pd
from lasagne import layers
from lasagne.updates import nesterov_momentum
from theano.tensor.nnet import softmax
from nolearn.lasagne import NeuralNet
from nolearn.lasagne import BatchIterator
from sklearn.cross_validation import train_test_split
from fuzzywuzzy import fuzz
from fuzzywuzzy import process


# Load data set
root = '/home/shraddha/Project/ff/project_11/scripts'
data = pd.read_csv(root + '/LISTFILE.txt', sep = ' ', header = None)
