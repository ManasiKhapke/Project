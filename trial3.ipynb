{
 "cells": [
  {
   "cell_type": "code",
   "execution_count": 1,
   "metadata": {
    "collapsed": false
   },
   "outputs": [
    {
     "name": "stderr",
     "output_type": "stream",
     "text": [
      "Using gpu device 0: GeForce GT 740M (CNMeM is disabled)\n"
     ]
    }
   ],
   "source": [
    "# Import all modules\n",
    "%matplotlib inline\n",
    "import random\n",
    "import pylab\n",
    "import pickle as pkl\n",
    "import numpy as np\n",
    "import pandas as pd\n",
    "from scipy.misc import imread, imresize\n",
    "from lasagne import layers\n",
    "from theano.tensor.nnet import softmax\n",
    "from nolearn.lasagne import NeuralNet\n",
    "from nolearn.lasagne import BatchIterator\n",
    "from sklearn.cross_validation import train_test_split\n",
    "from sklearn.metrics import classification_report, accuracy_score\n",
    "\n",
    "script_root = '/home/faizy/workspace/project/project/scripts/'\n",
    "data_root = '/home/faizy/workspace/project/project/datasets/'\n",
    "model_root = '/home/faizy/workspace/project/project/models/'"
   ]
  },
  {
   "cell_type": "code",
   "execution_count": 2,
   "metadata": {
    "collapsed": true
   },
   "outputs": [],
   "source": [
    "# Load dataset\n",
    "data = pd.read_csv(script_root + 'LISTFILE.txt', sep = ' ', header = None)"
   ]
  },
  {
   "cell_type": "code",
   "execution_count": 3,
   "metadata": {
    "collapsed": false
   },
   "outputs": [
    {
     "data": {
      "image/png": "[encoded data removed]",
      "text/plain": [
       "<matplotlib.figure.Figure at 0x7fdb680f4bd0>"
      ]
     },
     "metadata": {},
     "output_type": "display_data"
    }
   ],
   "source": [
    "# Visualize dataset\n",
    "from scipy.misc import imread as ims\n",
    "i = random.randrange(0, data[0].count())\n",
    "img = ims(data_root + 'English/' + data[0][i])\n",
    "pylab.imshow(img)\n",
    "pylab.show()"
   ]
  },
  {
   "cell_type": "code",
   "execution_count": 4,
   "metadata": {
    "collapsed": false
   },
   "outputs": [
    {
     "data": {
      "text/plain": [
       "7705"
      ]
     },
     "execution_count": 4,
     "metadata": {},
     "output_type": "execute_result"
    }
   ],
   "source": [
    "data[1].count()"
   ]
  },
  {
   "cell_type": "code",
   "execution_count": 5,
   "metadata": {
    "collapsed": false
   },
   "outputs": [],
   "source": [
    "# Reshape images to 32x32\n",
    "# Conversion to grayscale\n",
    "data_x = np.zeros((data[0].count(), 1, 32, 32))\n",
    "data_y = data[1]\n",
    "\n",
    "for idx, path in enumerate(data[0]):\n",
    "    img = imread(data_root + 'English/' + path)\n",
    "    img = imresize(img, (32, 32))\n",
    "    if len(img.shape) == 3:\n",
    "        data_x[idx, ...] = img.dot([0.299, 0.587, 0.144])\n",
    "    else:\n",
    "        data_x[idx, ...] = img\n",
    "        \n",
    "data_x = data_x.astype('float32')\n",
    "\n",
    "# Divide dataset to train and test\n",
    "train1_x, test1_x, train1_y, test1_y = train_test_split(data_x, data_y, test_size = 0.2)"
   ]
  },
  {
   "cell_type": "code",
   "execution_count": 6,
   "metadata": {
    "collapsed": false,
    "scrolled": true
   },
   "outputs": [
    {
     "name": "stdout",
     "output_type": "stream",
     "text": [
      "Train_x Shape:  (6164, 1, 32, 32) \n",
      "Test_x Shape:  (1541, 1, 32, 32) \n",
      "Train_y Shape:  (6164,) \n",
      "Test_y Shape:  (1541,)\n"
     ]
    }
   ],
   "source": [
    "print \"Train_x Shape: \", train1_x.shape, \"\\nTest_x Shape: \", test1_x.shape,\"\\nTrain_y Shape: \", train1_y.shape,\"\\nTest_y Shape: \", test1_y.shape"
   ]
  },
  {
   "cell_type": "code",
   "execution_count": 7,
   "metadata": {
    "collapsed": true
   },
   "outputs": [],
   "source": [
    "# Normalize by MuSigma\n",
    "train1_x /= train1_x.std(axis = None)\n",
    "train1_x -= train1_x.mean()\n",
    "\n",
    "test1_x /= test1_x.std(axis = None)\n",
    "test1_x -= test1_x.mean()"
   ]
  },
  {
   "cell_type": "code",
   "execution_count": 8,
   "metadata": {
    "collapsed": true
   },
   "outputs": [],
   "source": [
    "# Setting X and Y\n",
    "X = train1_x\n",
    "y = train1_y"
   ]
  },
  {
   "cell_type": "code",
   "execution_count": 9,
   "metadata": {
    "collapsed": false
   },
   "outputs": [],
   "source": [
    "# setting nn \n",
    "net = NeuralNet(\n",
    "    layers = [\n",
    "        ('input', layers.InputLayer),\n",
    "        ('conv1', layers.Conv2DLayer),\n",
    "        ('pool1', layers.MaxPool2DLayer),\n",
    "        ('dropout1', layers.DropoutLayer),\n",
    "        ('conv2', layers.Conv2DLayer),\n",
    "        ('pool2', layers.MaxPool2DLayer),\n",
    "        ('dropout2', layers.DropoutLayer),\n",
    "        ('conv3', layers.Conv2DLayer),\n",
    "        ('hidden4', layers.DenseLayer),\n",
    "        ('output', layers.DenseLayer),\n",
    "    ],\n",
    "\n",
    "    input_shape = (None, 1, 32, 32),\n",
    "    conv1_num_filters = 32, conv1_filter_size = (3, 3),\n",
    "    pool1_pool_size = (2, 2),\n",
    "    dropout1_p = 0.2,\n",
    "    conv2_num_filters = 64, conv2_filter_size = (2, 2),\n",
    "    pool2_pool_size = (2, 2),\n",
    "    dropout2_p = 0.2,\n",
    "    conv3_num_filters = 100, conv3_filter_size = (7, 7),\n",
    "    hidden4_num_units = 100,\n",
    "    output_num_units = 62, output_nonlinearity = softmax,\n",
    "\n",
    "    batch_iterator_train = BatchIterator(batch_size = 100),\n",
    "    batch_iterator_test = BatchIterator(batch_size = 100),\n",
    "\n",
    "    update_learning_rate = 0.03,\n",
    "    update_momentum = 0.9,\n",
    "\n",
    "    use_label_encoder = True,\n",
    "    regression = False,\n",
    "    max_epochs = 50,\n",
    "    verbose = 1,\n",
    ")"
   ]
  },
  {
   "cell_type": "code",
   "execution_count": 10,
   "metadata": {
    "collapsed": false
   },
   "outputs": [
    {
     "name": "stdout",
     "output_type": "stream",
     "text": [
      "# Neural Network with 338638 learnable parameters\n",
      "\n",
      "## Layer information\n",
      "\n",
      "  #  name      size\n",
      "---  --------  --------\n",
      "  0  input     1x32x32\n",
      "  1  conv1     32x30x30\n",
      "  2  pool1     32x15x15\n",
      "  3  dropout1  32x15x15\n",
      "  4  conv2     64x14x14\n",
      "  5  pool2     64x7x7\n",
      "  6  dropout2  64x7x7\n",
      "  7  conv3     100x1x1\n",
      "  8  hidden4   100\n",
      "  9  output    62\n",
      "\n"
     ]
    }
   ],
   "source": [
    "# train nn\n",
    "net.fit(X,y);"
   ]
  },
  {
   "cell_type": "code",
   "execution_count": 42,
   "metadata": {
    "collapsed": true
   },
   "outputs": [],
   "source": [
    "# Save model\n",
    "f = open(model_root + 'recognizer_1.pkl', 'wb')\n",
    "pkl.dump(net, f)"
   ]
  },
  {
   "cell_type": "code",
   "execution_count": 43,
   "metadata": {
    "collapsed": true
   },
   "outputs": [],
   "source": [
    "# Load model\n",
    "f = open(model_root + 'recognizer_1.pkl', 'rb')\n",
    "netter = pkl.load(f)"
   ]
  },
  {
   "cell_type": "code",
   "execution_count": 44,
   "metadata": {
    "collapsed": true
   },
   "outputs": [],
   "source": [
    "# Test model\n",
    "pred = netter.predict(test1_x)"
   ]
  },
  {
   "cell_type": "code",
   "execution_count": 47,
   "metadata": {
    "collapsed": false
   },
   "outputs": [
    {
     "name": "stdout",
     "output_type": "stream",
     "text": [
      "0.735236859182\n"
     ]
    }
   ],
   "source": [
    "#print classification_report(test1_y, pred)\n",
    "print accuracy_score(test1_y, pred)"
   ]
  },
  {
   "cell_type": "code",
   "execution_count": 14,
   "metadata": {
    "collapsed": true
   },
   "outputs": [],
   "source": [
    "# Define word recognition functions\n",
    "import re, collections\n",
    "\n",
    "def words(text): return re.findall('[a-z]+', text.lower()) \n",
    "\n",
    "def train(features):\n",
    "    model = collections.defaultdict(lambda: 1)\n",
    "    for f in features:\n",
    "        model[f] += 1\n",
    "    return model\n",
    "\n",
    "NWORDS = train(words(file(data_root + 'big.txt').read()))\n",
    "\n",
    "alphabet = 'abcdefghijklmnopqrstuvwxyz'\n",
    "\n",
    "def edits1(word):\n",
    "   splits     = [(word[:i], word[i:]) for i in range(len(word) + 1)]\n",
    "   deletes    = [a + b[1:] for a, b in splits if b]\n",
    "   transposes = [a + b[1] + b[0] + b[2:] for a, b in splits if len(b)>1]\n",
    "   replaces   = [a + c + b[1:] for a, b in splits for c in alphabet if b]\n",
    "   inserts    = [a + c + b     for a, b in splits for c in alphabet]\n",
    "   return set(deletes + transposes + replaces + inserts)\n",
    "\n",
    "def known_edits2(word):\n",
    "    return set(e2 for e1 in edits1(word) for e2 in edits1(e1) if e2 in NWORDS)\n",
    "\n",
    "def known(words): return set(w for w in words if w in NWORDS)\n",
    "\n",
    "def correct(word):\n",
    "    candidates = known([word]) or known(edits1(word)) or known_edits2(word) or [word]\n",
    "    return sorted(candidates,  key=NWORDS.get, reverse = True)\n",
    "\n",
    "def classer(arrayer):\n",
    "    classer_array = []\n",
    "    for i in range(len(arrayer)):\n",
    "        if (0 <= arrayer[i] < 10):\n",
    "            classer_array.append(arrayer[i])\n",
    "        elif (10 <= arrayer[i] < 36) :\n",
    "            classer_array.append(alphabet[arrayer[i] - 10].upper())\n",
    "        elif (36 <= arrayer[i] < 62):\n",
    "            classer_array.append(alphabet[arrayer[i] - 36])\n",
    "        else : \n",
    "            print 'Is the array correct!?'\n",
    "    return classer_array"
   ]
  },
  {
   "cell_type": "code",
   "execution_count": 21,
   "metadata": {
    "collapsed": false
   },
   "outputs": [
    {
     "data": {
      "image/png": "[encoded data removed]",
      "text/plain": [
       "<matplotlib.figure.Figure at 0x7f099e75e910>"
      ]
     },
     "metadata": {},
     "output_type": "display_data"
    }
   ],
   "source": [
    "# Visualizing test \n",
    "# Take 10, 20, 30, 40\n",
    "pylab.figure(1)\n",
    "\n",
    "pylab.subplot(4, 1, 1)\n",
    "img = test1_x[90]\n",
    "img = img.reshape(32, 32)\n",
    "pylab.imshow(img)\n",
    "pylab.gray()\n",
    "\n",
    "pylab.subplot(4, 1, 2)\n",
    "img = test1_x[80]\n",
    "img = img.reshape(32, 32)\n",
    "pylab.imshow(img)\n",
    "pylab.gray()\n",
    "\n",
    "pylab.subplot(4, 1, 3)\n",
    "img = test1_x[110]\n",
    "img = img.reshape(32, 32)\n",
    "pylab.imshow(img)\n",
    "pylab.gray()\n",
    "\n",
    "pylab.subplot(4, 1, 4)\n",
    "img = test1_x[120]\n",
    "img = img.reshape(32, 32)\n",
    "pylab.imshow(img)\n",
    "pylab.gray()\n",
    "\n",
    "pylab.show()"
   ]
  },
  {
   "cell_type": "code",
   "execution_count": 35,
   "metadata": {
    "collapsed": false
   },
   "outputs": [],
   "source": [
    "# Redo above steps\n",
    "tester = np.zeros((4, 1, 32, 32))\n",
    "tester[0, ...] = test1_x[110]\n",
    "tester[1, ...] = test1_x[120]\n",
    "tester[2, ...] = test1_x[90]\n",
    "tester[3, ...] = test1_x[80]"
   ]
  },
  {
   "cell_type": "code",
   "execution_count": 36,
   "metadata": {
    "collapsed": false
   },
   "outputs": [],
   "source": [
    "tester = tester.astype('float32')"
   ]
  },
  {
   "cell_type": "code",
   "execution_count": 37,
   "metadata": {
    "collapsed": false
   },
   "outputs": [],
   "source": [
    "preder = netter.predict(tester)"
   ]
  },
  {
   "cell_type": "code",
   "execution_count": 38,
   "metadata": {
    "collapsed": false
   },
   "outputs": [],
   "source": [
    "real_pred = classer(preder)\n",
    "real_pred = map(str, real_pred)"
   ]
  },
  {
   "cell_type": "code",
   "execution_count": 39,
   "metadata": {
    "collapsed": false
   },
   "outputs": [],
   "source": [
    "letter_stream = ''.join(real_pred).lower()"
   ]
  },
  {
   "cell_type": "code",
   "execution_count": 40,
   "metadata": {
    "collapsed": false
   },
   "outputs": [
    {
     "name": "stdout",
     "output_type": "stream",
     "text": [
      "spin\n"
     ]
    }
   ],
   "source": [
    "print letter_stream"
   ]
  },
  {
   "cell_type": "code",
   "execution_count": 41,
   "metadata": {
    "collapsed": false
   },
   "outputs": [
    {
     "name": "stdout",
     "output_type": "stream",
     "text": [
      "Probable words are:  spin\n"
     ]
    }
   ],
   "source": [
    "print 'Probable words are: ', ', '.join(correct(letter_stream))"
   ]
  },
  {
   "cell_type": "code",
   "execution_count": null,
   "metadata": {
    "collapsed": true
   },
   "outputs": [],
   "source": []
  }
 ],
 "metadata": {
  "kernelspec": {
   "display_name": "Python 2",
   "language": "python",
   "name": "python2"
  },
  "language_info": {
   "codemirror_mode": {
    "name": "ipython",
    "version": 2
   },
   "file_extension": ".py",
   "mimetype": "text/x-python",
   "name": "python",
   "nbconvert_exporter": "python",
   "pygments_lexer": "ipython2",
   "version": "2.7.11"
  }
 },
 "nbformat": 4,
 "nbformat_minor": 0
}
