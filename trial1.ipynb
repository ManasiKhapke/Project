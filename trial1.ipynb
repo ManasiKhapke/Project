{
 "cells": [
  {
   "cell_type": "markdown",
   "metadata": {},
   "source": [
    "## TEXT DETECTION"
   ]
  },
  {
   "cell_type": "code",
   "execution_count": 21,
   "metadata": {
    "collapsed": false
   },
   "outputs": [],
   "source": [
    "# import modules\n",
    "%matplotlib inline\n",
    "import random\n",
    "import pylab\n",
    "import pandas as pd\n",
    "import numpy as np\n",
    "import cPickle as pkl\n",
    "from PIL import Image\n",
    "import matplotlib.pyplot as plt\n",
    "from lasagne import layers\n",
    "from lasagne.updates import nesterov_momentum\n",
    "from theano.tensor.nnet import softmax\n",
    "from nolearn.lasagne import NeuralNet\n",
    "from nolearn.lasagne import BatchIterator"
   ]
  },
  {
   "cell_type": "markdown",
   "metadata": {},
   "source": [
    "### reading SVT"
   ]
  },
  {
   "cell_type": "code",
   "execution_count": null,
   "metadata": {
    "collapsed": false
   },
   "outputs": [],
   "source": [
    "from scipy.misc import imread as ims\n",
    "img = ims('/home/faizy/workspace/project/project/datasets/svt/svt1/img/01_15.jpg')\n",
    "img.shape"
   ]
  },
  {
   "cell_type": "code",
   "execution_count": null,
   "metadata": {
    "collapsed": false
   },
   "outputs": [],
   "source": [
    "pylab.imshow(img)\n",
    "pylab.show()"
   ]
  },
  {
   "cell_type": "code",
   "execution_count": null,
   "metadata": {
    "collapsed": true
   },
   "outputs": [],
   "source": [
    "lst = []\n",
    "for i in range(0, 800, 50):\n",
    "    for j in range(0, 1280, 60):\n",
    "        if not (i + 50 > 800 or j + 60 > 1280):\n",
    "            lst.append(img[i:i+50, j:j+60, :])"
   ]
  },
  {
   "cell_type": "code",
   "execution_count": null,
   "metadata": {
    "collapsed": false,
    "scrolled": true
   },
   "outputs": [],
   "source": [
    "i = random.randrange(0, 336)\n",
    "pylab.imshow(lst[i])"
   ]
  },
  {
   "cell_type": "code",
   "execution_count": null,
   "metadata": {
    "collapsed": true
   },
   "outputs": [],
   "source": [
    "from scipy.misc import imresize\n",
    "new_lst = []\n",
    "for i in lst:\n",
    "    new_lst.append(imresize(i, (28, 28)))"
   ]
  },
  {
   "cell_type": "code",
   "execution_count": null,
   "metadata": {
    "collapsed": true
   },
   "outputs": [],
   "source": [
    "new_list = np.stack(new_lst)\n",
    "new_list = new_list.dot([0.299, 0.587, 0.144])\n",
    "new_list.shape\n",
    "tester = new_list.reshape(336, 1, 28, 28)"
   ]
  },
  {
   "cell_type": "code",
   "execution_count": null,
   "metadata": {
    "collapsed": true
   },
   "outputs": [],
   "source": [
    "tester /= tester.std(axis = None)\n",
    "tester -= tester.mean()\n",
    "tester = tester.astype('float32')"
   ]
  },
  {
   "cell_type": "code",
   "execution_count": null,
   "metadata": {
    "collapsed": true
   },
   "outputs": [],
   "source": [
    "#TODO implement a chars74k trained network\n",
    "preder = net.predict(tester)"
   ]
  },
  {
   "cell_type": "markdown",
   "metadata": {},
   "source": [
    "### reading chars74k"
   ]
  },
  {
   "cell_type": "code",
   "execution_count": null,
   "metadata": {
    "collapsed": true
   },
   "outputs": [],
   "source": [
    "root = '/home/faizy/workspace/project/project/scripts'\n",
    "data = pd.read_csv(root + '/LISTFILE.txt', sep = ' ', header = None)"
   ]
  },
  {
   "cell_type": "code",
   "execution_count": null,
   "metadata": {
    "collapsed": false
   },
   "outputs": [],
   "source": [
    "data.head()"
   ]
  },
  {
   "cell_type": "code",
   "execution_count": null,
   "metadata": {
    "collapsed": false
   },
   "outputs": [],
   "source": [
    "from sklearn.cross_validation import train_test_split\n",
    "train_x, test_x, train_y, test_y = train_test_split(data[0], data[1])"
   ]
  },
  {
   "cell_type": "code",
   "execution_count": null,
   "metadata": {
    "collapsed": false
   },
   "outputs": [],
   "source": [
    "train_x.head();test_y.head()"
   ]
  },
  {
   "cell_type": "code",
   "execution_count": null,
   "metadata": {
    "collapsed": false
   },
   "outputs": [],
   "source": [
    "root = '/home/faizy/workspace/project/project/datasets/English/'\n",
    "from scipy.misc import imread as ims\n",
    "img = ims(root + train_x[0])"
   ]
  },
  {
   "cell_type": "code",
   "execution_count": null,
   "metadata": {
    "collapsed": false
   },
   "outputs": [],
   "source": [
    "pylab.imshow(img)\n",
    "pylab.show()"
   ]
  },
  {
   "cell_type": "markdown",
   "metadata": {},
   "source": [
    "### Actual code"
   ]
  },
  {
   "cell_type": "code",
   "execution_count": 55,
   "metadata": {
    "collapsed": true
   },
   "outputs": [],
   "source": [
    "# extra functions\n",
    "def unpickle(filer):\n",
    "    f = open(filer, 'rb')\n",
    "    d_dict = pkl.load(f)\n",
    "    f.close()\n",
    "    return d_dict\n",
    "\n",
    "from sklearn.cross_validation import train_test_split"
   ]
  },
  {
   "cell_type": "code",
   "execution_count": 63,
   "metadata": {
    "collapsed": false
   },
   "outputs": [],
   "source": [
    "# load train_test set\n",
    "# cifar\n",
    "train_dict = unpickle('/home/faizy/workspace/cifar/cifar-10-batches-py/data_batch_1')\n",
    "train2_images = train_dict['data'].astype('float32')\n",
    "train2_y = np.zeros((10000, )).astype('int')\n",
    "test_dict = unpickle('/home/faizy/workspace/cifar/cifar-10-batches-py/test_batch')\n",
    "test2_images = test_dict['data'].astype('float32')\n",
    "\n",
    "# chars74k\n",
    "data = pd.read_csv('/home/faizy/workspace/project/project/scripts/LISTFILE.txt', sep = ' ', header = None)\n",
    "root = '/home/faizy/workspace/project/project/datasets/English/'\n",
    "data_x = np.zeros((7705, 1, 32, 32))\n",
    "data_y = np.ones((7705, )).astype('int32')\n",
    "from scipy.misc import imread, imresize\n",
    "for idx, path in enumerate(data[0]):\n",
    "    img = imread(root + path)\n",
    "    img = imresize(img, (32, 32))\n",
    "    if len(img.shape) == 3:\n",
    "        data_x[idx, ...] = img.dot([0.299, 0.587, 0.144])\n",
    "    else:\n",
    "        data_x[idx, ...] = img\n",
    "        \n",
    "data_x = data_x.astype('float32')\n",
    "train1_x, test1_x, train1_y, test1_y = train_test_split(data_x, data_y, test_size = 0.2)"
   ]
  },
  {
   "cell_type": "code",
   "execution_count": 62,
   "metadata": {
    "collapsed": false
   },
   "outputs": [
    {
     "data": {
      "text/plain": [
       "((6164, 1, 32, 32), (1541, 1, 32, 32))"
      ]
     },
     "execution_count": 62,
     "metadata": {},
     "output_type": "execute_result"
    }
   ],
   "source": [
    "train_x.shape, test_x.shape"
   ]
  },
  {
   "cell_type": "code",
   "execution_count": 65,
   "metadata": {
    "collapsed": false
   },
   "outputs": [],
   "source": [
    "# preprocess\n",
    "# cifar\n",
    "train2_images /= train2_images.std(axis = None)\n",
    "train2_images -= train2_images.mean()\n",
    "\n",
    "test2_images /= test2_images.std(axis = None)\n",
    "test2_images -= test2_images.mean()\n",
    "\n",
    "# chars74k\n",
    "train1_x /= train1_x.std(axis = None)\n",
    "train1_x -= train1_x.mean()\n",
    "\n",
    "test1_x /= test1_x.std(axis = None)\n",
    "test1_x -= test1_x.mean()"
   ]
  },
  {
   "cell_type": "code",
   "execution_count": 67,
   "metadata": {
    "collapsed": true
   },
   "outputs": [],
   "source": [
    "# reshape dataset\n",
    "# cifar\n",
    "# grayscaling and cropping to size\n",
    "train2_x_rgb = train2_images.reshape(-1, 3, 32, 32).transpose(0, 2, 3, 1)\n",
    "\n",
    "train2_x = np.zeros((10000, 1, 32, 32))\n",
    "for i in range(10000):\n",
    "    train2_x[i, :, :, :] = np.dot(train2_x_rgb[i, :, :, :], [0.299, 0.587, 0.144])\n",
    "\n",
    "test2_x_rgb = test2_images.reshape(-1, 3, 32, 32).transpose(0, 2, 3, 1)\n",
    "\n",
    "test2_x = np.zeros((10000, 1, 32, 32))\n",
    "for i in range(10000):\n",
    "    test2_x[i, :, :, :] = np.dot(test2_x_rgb[i, :, :, :], [0.299, 0.587, 0.144])"
   ]
  },
  {
   "cell_type": "code",
   "execution_count": 69,
   "metadata": {
    "collapsed": false
   },
   "outputs": [],
   "source": [
    "# finally\n",
    "train_x = np.vstack((train1_x, train2_x))\n",
    "\n",
    "train_y = np.concatenate([train1_y, train2_y])\n",
    "\n",
    "test_x = np.vstack((test1_x, test2_x))\n",
    "\n",
    "#TODO shuffle train-test"
   ]
  },
  {
   "cell_type": "code",
   "execution_count": 70,
   "metadata": {
    "collapsed": true
   },
   "outputs": [],
   "source": [
    "# check again\n",
    "train_x = train_x.astype('float32')\n",
    "train_y = train_y.astype('int32')\n",
    "test_x = test_x.astype('float32')\n",
    "test_y = test_y.astype('int32')"
   ]
  },
  {
   "cell_type": "code",
   "execution_count": 88,
   "metadata": {
    "collapsed": true
   },
   "outputs": [],
   "source": [
    "# setting nn \n",
    "net = NeuralNet(\n",
    "    layers = [\n",
    "        ('input', layers.InputLayer),\n",
    "        ('conv1', layers.Conv2DLayer),\n",
    "        ('pool1', layers.MaxPool2DLayer),\n",
    "        ('dropout1', layers.DropoutLayer),\n",
    "        ('conv2', layers.Conv2DLayer),\n",
    "        ('pool2', layers.MaxPool2DLayer),\n",
    "        ('dropout2', layers.DropoutLayer),\n",
    "        ('hidden3', layers.DenseLayer),\n",
    "        ('output', layers.DenseLayer),\n",
    "    ],\n",
    "\n",
    "    input_shape = (None, 1, 32, 32),\n",
    "    conv1_num_filters = 32, conv1_filter_size = (3, 3),\n",
    "    pool1_pool_size = (2, 2),\n",
    "    dropout1_p = 0.2,\n",
    "    conv2_num_filters = 64, conv2_filter_size = (2, 2),\n",
    "    pool2_pool_size = (2, 2),\n",
    "    dropout2_p = 0.2,\n",
    "    hidden3_num_units = 100,\n",
    "    output_num_units = 2, output_nonlinearity = softmax,\n",
    "\n",
    "    batch_iterator_train = BatchIterator(batch_size = 1000),\n",
    "    batch_iterator_test = BatchIterator(batch_size = 1000),\n",
    "\n",
    "    update=nesterov_momentum,\n",
    "    update_learning_rate = 0.003,\n",
    "    update_momentum = 0.9,\n",
    "\n",
    "    use_label_encoder = True,\n",
    "    regression = False,\n",
    "    max_epochs = 50,\n",
    "    verbose = 1,\n",
    ")"
   ]
  },
  {
   "cell_type": "code",
   "execution_count": 89,
   "metadata": {
    "collapsed": false
   },
   "outputs": [
    {
     "name": "stdout",
     "output_type": "stream",
     "text": [
      "# Neural Network with 322478 learnable parameters\n",
      "\n",
      "## Layer information\n",
      "\n",
      "  #  name      size\n",
      "---  --------  --------\n",
      "  0  input     1x32x32\n",
      "  1  conv1     32x30x30\n",
      "  2  pool1     32x15x15\n",
      "  3  dropout1  32x15x15\n",
      "  4  conv2     64x14x14\n",
      "  5  pool2     64x7x7\n",
      "  6  dropout2  64x7x7\n",
      "  7  hidden3   100\n",
      "  8  output    2\n",
      "\n",
      "  epoch    train loss    valid loss    train/val    valid acc  dur\n",
      "-------  ------------  ------------  -----------  -----------  -----\n",
      "      1       \u001b[36m0.83033\u001b[0m       \u001b[32m0.63956\u001b[0m      1.29828      0.69175  8.21s\n",
      "      2       \u001b[36m0.67893\u001b[0m       \u001b[32m0.62876\u001b[0m      1.07980      0.69175  8.00s\n",
      "      3       0.68432       0.62903      1.08791      0.69175  8.01s\n",
      "      4       \u001b[36m0.67356\u001b[0m       \u001b[32m0.62648\u001b[0m      1.07516      0.69175  8.56s\n",
      "      5       \u001b[36m0.66604\u001b[0m       \u001b[32m0.62184\u001b[0m      1.07107      0.69175  9.29s\n",
      "      6       \u001b[36m0.66203\u001b[0m       \u001b[32m0.61650\u001b[0m      1.07385      0.69175  8.70s\n",
      "      7       \u001b[36m0.65926\u001b[0m       \u001b[32m0.61157\u001b[0m      1.07797      0.69175  8.11s\n",
      "      8       \u001b[36m0.65599\u001b[0m       \u001b[32m0.60655\u001b[0m      1.08152      0.69175  8.18s\n",
      "      9       \u001b[36m0.65203\u001b[0m       \u001b[32m0.60145\u001b[0m      1.08409      0.69175  8.24s\n",
      "     10       \u001b[36m0.64777\u001b[0m       \u001b[32m0.59579\u001b[0m      1.08725      0.69175  8.02s\n",
      "     11       \u001b[36m0.64199\u001b[0m       \u001b[32m0.58952\u001b[0m      1.08901      0.69175  8.15s\n",
      "     12       \u001b[36m0.63707\u001b[0m       \u001b[32m0.58280\u001b[0m      1.09311      0.69175  8.20s\n",
      "     13       \u001b[36m0.63203\u001b[0m       \u001b[32m0.57575\u001b[0m      1.09776      0.69200  8.18s\n",
      "     14       \u001b[36m0.62295\u001b[0m       \u001b[32m0.56705\u001b[0m      1.09859      0.69475  8.13s\n",
      "     15       \u001b[36m0.61750\u001b[0m       \u001b[32m0.55851\u001b[0m      1.10563      0.70068  8.44s\n",
      "     16       \u001b[36m0.61094\u001b[0m       \u001b[32m0.55022\u001b[0m      1.11036      0.71493  8.00s\n",
      "     17       \u001b[36m0.60401\u001b[0m       \u001b[32m0.54211\u001b[0m      1.11418      0.71881  8.00s\n",
      "     18       \u001b[36m0.59845\u001b[0m       \u001b[32m0.53375\u001b[0m      1.12123      0.72209  8.00s\n",
      "     19       \u001b[36m0.59032\u001b[0m       \u001b[32m0.52532\u001b[0m      1.12374      0.72802  8.51s\n",
      "     20       \u001b[36m0.58304\u001b[0m       \u001b[32m0.51617\u001b[0m      1.12956      0.73080  8.00s\n",
      "     21       \u001b[36m0.57649\u001b[0m       \u001b[32m0.50723\u001b[0m      1.13653      0.73698  8.25s\n",
      "     22       \u001b[36m0.57130\u001b[0m       \u001b[32m0.49889\u001b[0m      1.14513      0.74241  8.46s\n",
      "     23       \u001b[36m0.56209\u001b[0m       \u001b[32m0.48912\u001b[0m      1.14919      0.75083  8.51s\n",
      "     24       \u001b[36m0.55532\u001b[0m       \u001b[32m0.48007\u001b[0m      1.15674      0.76116  8.01s\n",
      "     25       \u001b[36m0.54868\u001b[0m       \u001b[32m0.47120\u001b[0m      1.16444      0.76891  8.01s\n",
      "     26       \u001b[36m0.54161\u001b[0m       \u001b[32m0.46195\u001b[0m      1.17244      0.77551  8.00s\n",
      "     27       \u001b[36m0.53596\u001b[0m       \u001b[32m0.45368\u001b[0m      1.18136      0.78601  8.01s\n",
      "     28       \u001b[36m0.52668\u001b[0m       \u001b[32m0.44455\u001b[0m      1.18473      0.79219  8.23s\n",
      "     29       \u001b[36m0.52171\u001b[0m       \u001b[32m0.43688\u001b[0m      1.19415      0.80461  8.00s\n",
      "     30       \u001b[36m0.51469\u001b[0m       \u001b[32m0.42901\u001b[0m      1.19973      0.81386  8.24s\n",
      "     31       \u001b[36m0.50674\u001b[0m       \u001b[32m0.42139\u001b[0m      1.20253      0.82236  8.59s\n",
      "     32       \u001b[36m0.49925\u001b[0m       \u001b[32m0.41378\u001b[0m      1.20656      0.82986  8.09s\n",
      "     33       \u001b[36m0.49160\u001b[0m       \u001b[32m0.40524\u001b[0m      1.21313      0.83736  8.01s\n",
      "     34       \u001b[36m0.48623\u001b[0m       \u001b[32m0.39822\u001b[0m      1.22100      0.84529  8.03s\n",
      "     35       \u001b[36m0.48039\u001b[0m       \u001b[32m0.39131\u001b[0m      1.22766      0.85454  8.33s\n",
      "     36       \u001b[36m0.47394\u001b[0m       \u001b[32m0.38446\u001b[0m      1.23276      0.85961  8.00s\n",
      "     37       \u001b[36m0.46459\u001b[0m       \u001b[32m0.37663\u001b[0m      1.23357      0.86544  8.00s\n",
      "     38       \u001b[36m0.45951\u001b[0m       \u001b[32m0.36987\u001b[0m      1.24236      0.86919  8.00s\n",
      "     39       \u001b[36m0.45437\u001b[0m       \u001b[32m0.36403\u001b[0m      1.24818      0.87436  8.00s\n",
      "     40       \u001b[36m0.44448\u001b[0m       \u001b[32m0.35628\u001b[0m      1.24754      0.87819  8.00s\n",
      "     41       \u001b[36m0.44232\u001b[0m       \u001b[32m0.35006\u001b[0m      1.26355      0.88019  8.00s\n",
      "     42       \u001b[36m0.43568\u001b[0m       \u001b[32m0.34428\u001b[0m      1.26547      0.88269  8.01s\n",
      "     43       \u001b[36m0.42607\u001b[0m       \u001b[32m0.33707\u001b[0m      1.26402      0.88544  8.00s\n",
      "     44       \u001b[36m0.42066\u001b[0m       \u001b[32m0.33020\u001b[0m      1.27397      0.88844  8.00s\n",
      "     45       \u001b[36m0.41606\u001b[0m       \u001b[32m0.32491\u001b[0m      1.28052      0.89119  8.00s\n",
      "     46       \u001b[36m0.40804\u001b[0m       \u001b[32m0.31798\u001b[0m      1.28322      0.89469  8.00s\n",
      "     47       \u001b[36m0.40486\u001b[0m       \u001b[32m0.31271\u001b[0m      1.29470      0.89544  8.01s\n",
      "     48       \u001b[36m0.39654\u001b[0m       \u001b[32m0.30751\u001b[0m      1.28954      0.89561  8.00s\n",
      "     49       \u001b[36m0.39117\u001b[0m       \u001b[32m0.30126\u001b[0m      1.29842      0.89819  8.00s\n",
      "     50       \u001b[36m0.38624\u001b[0m       \u001b[32m0.29585\u001b[0m      1.30553      0.89919  8.00s\n"
     ]
    }
   ],
   "source": [
    "# train and test nn\n",
    "net.fit(train_x, train_y)\n",
    "pred = net.predict(test_x)"
   ]
  },
  {
   "cell_type": "code",
   "execution_count": 160,
   "metadata": {
    "collapsed": false
   },
   "outputs": [
    {
     "name": "stdout",
     "output_type": "stream",
     "text": [
      "--------------\n",
      "It is NOT a character\n"
     ]
    },
    {
     "data": {
      "image/png": "[encoded data removed]",
      "text/plain": [
       "<matplotlib.figure.Figure at 0x7fab7cd71f90>"
      ]
     },
     "metadata": {},
     "output_type": "display_data"
    }
   ],
   "source": [
    "# visualize output\n",
    "%matplotlib inline\n",
    "i = random.randrange(1541, 11541)\n",
    "img = test_x[i, :]\n",
    "img = img.reshape(32, 32)\n",
    "pylab.imshow(img)\n",
    "pylab.gray()\n",
    "pylab.axis('off')\n",
    "print '--------------'\n",
    "if pred[i] == 1:\n",
    "    print \"It is a character\"\n",
    "else:\n",
    "    print \"It is NOT a character\""
   ]
  },
  {
   "cell_type": "code",
   "execution_count": 159,
   "metadata": {
    "collapsed": false
   },
   "outputs": [
    {
     "name": "stdout",
     "output_type": "stream",
     "text": [
      "--------------\n",
      "It is a character\n"
     ]
    },
    {
     "data": {
      "image/png": "[encoded data removed]",
      "text/plain": [
       "<matplotlib.figure.Figure at 0x7fab7d61dc50>"
      ]
     },
     "metadata": {},
     "output_type": "display_data"
    }
   ],
   "source": [
    "# visualize output\n",
    "%matplotlib inline\n",
    "i = random.randrange(0, 1541)\n",
    "img = test_x[i, :]\n",
    "img = img.reshape(32, 32)\n",
    "pylab.imshow(img)\n",
    "pylab.gray()\n",
    "pylab.axis('off')\n",
    "print '--------------'\n",
    "if pred[i] == 1:\n",
    "    print \"It is a character\"\n",
    "else:\n",
    "    print \"It is NOT a character\""
   ]
  },
  {
   "cell_type": "code",
   "execution_count": 124,
   "metadata": {
    "collapsed": false
   },
   "outputs": [],
   "source": [
    "from sklearn.metrics import accuracy_score, classification_report"
   ]
  },
  {
   "cell_type": "code",
   "execution_count": 131,
   "metadata": {
    "collapsed": false
   },
   "outputs": [],
   "source": [
    "tester = np.concatenate([np.zeros((10000,)), test1_y])"
   ]
  },
  {
   "cell_type": "code",
   "execution_count": 130,
   "metadata": {
    "collapsed": false
   },
   "outputs": [
    {
     "name": "stdout",
     "output_type": "stream",
     "text": [
      "             precision    recall  f1-score   support\n",
      "\n",
      "        0.0       0.85      0.82      0.84     10000\n",
      "        1.0       0.05      0.06      0.05      1541\n",
      "\n",
      "avg / total       0.74      0.72      0.73     11541\n",
      "\n"
     ]
    }
   ],
   "source": [
    "print classification_report(tester, pred)"
   ]
  },
  {
   "cell_type": "code",
   "execution_count": 133,
   "metadata": {
    "collapsed": false
   },
   "outputs": [
    {
     "data": {
      "text/plain": [
       "(11541, 1, 32, 32)"
      ]
     },
     "execution_count": 133,
     "metadata": {},
     "output_type": "execute_result"
    }
   ],
   "source": [
    "test_x.shape"
   ]
  },
  {
   "cell_type": "code",
   "execution_count": 154,
   "metadata": {
    "collapsed": false
   },
   "outputs": [
    {
     "data": {
      "text/plain": [
       "(1541, 1, 32, 32)"
      ]
     },
     "execution_count": 154,
     "metadata": {},
     "output_type": "execute_result"
    }
   ],
   "source": [
    "test1_x.shape"
   ]
  },
  {
   "cell_type": "code",
   "execution_count": null,
   "metadata": {
    "collapsed": true
   },
   "outputs": [],
   "source": []
  }
 ],
 "metadata": {
  "kernelspec": {
   "display_name": "Python 2",
   "language": "python",
   "name": "python2"
  },
  "language_info": {
   "codemirror_mode": {
    "name": "ipython",
    "version": 2
   },
   "file_extension": ".py",
   "mimetype": "text/x-python",
   "name": "python",
   "nbconvert_exporter": "python",
   "pygments_lexer": "ipython2",
   "version": "2.7.11"
  }
 },
 "nbformat": 4,
 "nbformat_minor": 0
}
