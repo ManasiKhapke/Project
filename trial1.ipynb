{
 "cells": [
  {
   "cell_type": "markdown",
   "metadata": {},
   "source": [
    "## TEXT DETECTION"
   ]
  },
  {
   "cell_type": "code",
   "execution_count": 1,
   "metadata": {
    "collapsed": false
   },
   "outputs": [
    {
     "name": "stderr",
     "output_type": "stream",
     "text": [
      "Using gpu device 0: GeForce GT 740M (CNMeM is disabled)\n"
     ]
    }
   ],
   "source": [
    "# import modules\n",
    "%matplotlib inline\n",
    "import random\n",
    "import pylab\n",
    "import pandas as pd\n",
    "import numpy as np\n",
    "import cPickle as pkl\n",
    "from PIL import Image\n",
    "import matplotlib.pyplot as plt\n",
    "from lasagne import layers\n",
    "from lasagne.updates import nesterov_momentum\n",
    "from theano.tensor.nnet import softmax\n",
    "from nolearn.lasagne import NeuralNet\n",
    "from nolearn.lasagne import BatchIterator"
   ]
  },
  {
   "cell_type": "markdown",
   "metadata": {},
   "source": [
    "### reading SVT"
   ]
  },
  {
   "cell_type": "code",
   "execution_count": null,
   "metadata": {
    "collapsed": false
   },
   "outputs": [],
   "source": [
    "from scipy.misc import imread as ims\n",
    "img = ims('/home/faizy/workspace/project/project/datasets/svt/svt1/img/01_15.jpg')\n",
    "img.shape"
   ]
  },
  {
   "cell_type": "code",
   "execution_count": null,
   "metadata": {
    "collapsed": false
   },
   "outputs": [],
   "source": [
    "pylab.imshow(img)\n",
    "pylab.show()"
   ]
  },
  {
   "cell_type": "code",
   "execution_count": null,
   "metadata": {
    "collapsed": true
   },
   "outputs": [],
   "source": [
    "lst = []\n",
    "for i in range(0, 800, 50):\n",
    "    for j in range(0, 1280, 60):\n",
    "        if not (i + 50 > 800 or j + 60 > 1280):\n",
    "            lst.append(img[i:i+50, j:j+60, :])"
   ]
  },
  {
   "cell_type": "code",
   "execution_count": null,
   "metadata": {
    "collapsed": false,
    "scrolled": true
   },
   "outputs": [],
   "source": [
    "i = random.randrange(0, 336)\n",
    "pylab.imshow(lst[i])"
   ]
  },
  {
   "cell_type": "code",
   "execution_count": null,
   "metadata": {
    "collapsed": true
   },
   "outputs": [],
   "source": [
    "from scipy.misc import imresize\n",
    "new_lst = []\n",
    "for i in lst:\n",
    "    new_lst.append(imresize(i, (28, 28)))"
   ]
  },
  {
   "cell_type": "code",
   "execution_count": null,
   "metadata": {
    "collapsed": true
   },
   "outputs": [],
   "source": [
    "new_list = np.stack(new_lst)\n",
    "new_list = new_list.dot([0.299, 0.587, 0.144])\n",
    "new_list.shape\n",
    "tester = new_list.reshape(336, 1, 28, 28)"
   ]
  },
  {
   "cell_type": "code",
   "execution_count": null,
   "metadata": {
    "collapsed": true
   },
   "outputs": [],
   "source": [
    "tester /= tester.std(axis = None)\n",
    "tester -= tester.mean()\n",
    "tester = tester.astype('float32')"
   ]
  },
  {
   "cell_type": "code",
   "execution_count": null,
   "metadata": {
    "collapsed": true
   },
   "outputs": [],
   "source": [
    "#TODO implement a chars74k trained network\n",
    "preder = net.predict(tester)"
   ]
  },
  {
   "cell_type": "markdown",
   "metadata": {},
   "source": [
    "### reading chars74k"
   ]
  },
  {
   "cell_type": "code",
   "execution_count": null,
   "metadata": {
    "collapsed": true
   },
   "outputs": [],
   "source": [
    "root = '/home/faizy/workspace/project/project/scripts'\n",
    "data = pd.read_csv(root + '/LISTFILE.txt', sep = ' ', header = None)"
   ]
  },
  {
   "cell_type": "code",
   "execution_count": null,
   "metadata": {
    "collapsed": false
   },
   "outputs": [],
   "source": [
    "data.head()"
   ]
  },
  {
   "cell_type": "code",
   "execution_count": null,
   "metadata": {
    "collapsed": false
   },
   "outputs": [],
   "source": [
    "from sklearn.cross_validation import train_test_split\n",
    "train_x, test_x, train_y, test_y = train_test_split(data[0], data[1])"
   ]
  },
  {
   "cell_type": "code",
   "execution_count": null,
   "metadata": {
    "collapsed": false
   },
   "outputs": [],
   "source": [
    "train_x.head();test_y.head()"
   ]
  },
  {
   "cell_type": "code",
   "execution_count": null,
   "metadata": {
    "collapsed": false
   },
   "outputs": [],
   "source": [
    "root = '/home/faizy/workspace/project/project/datasets/English/'\n",
    "from scipy.misc import imread as ims\n",
    "img = ims(root + train_x[0])"
   ]
  },
  {
   "cell_type": "code",
   "execution_count": null,
   "metadata": {
    "collapsed": false
   },
   "outputs": [],
   "source": [
    "pylab.imshow(img)\n",
    "pylab.show()"
   ]
  },
  {
   "cell_type": "markdown",
   "metadata": {},
   "source": [
    "### Actual code"
   ]
  },
  {
   "cell_type": "code",
   "execution_count": 2,
   "metadata": {
    "collapsed": true
   },
   "outputs": [],
   "source": [
    "# extra functions\n",
    "def unpickle(filer):\n",
    "    f = open(filer, 'rb')\n",
    "    d_dict = pkl.load(f)\n",
    "    f.close()\n",
    "    return d_dict\n",
    "\n",
    "from sklearn.cross_validation import train_test_split"
   ]
  },
  {
   "cell_type": "code",
   "execution_count": 3,
   "metadata": {
    "collapsed": false
   },
   "outputs": [],
   "source": [
    "# load train_test set\n",
    "# cifar\n",
    "train_dict = unpickle('/home/faizy/workspace/cifar/cifar-10-batches-py/data_batch_1')\n",
    "train2_images = train_dict['data'].astype('float32')\n",
    "train2_y = np.zeros((10000, )).astype('int')\n",
    "test_dict = unpickle('/home/faizy/workspace/cifar/cifar-10-batches-py/test_batch')\n",
    "test2_images = test_dict['data'].astype('float32')\n",
    "\n",
    "# chars74k\n",
    "data = pd.read_csv('/home/faizy/workspace/project/project/scripts/LISTFILE.txt', sep = ' ', header = None)\n",
    "root = '/home/faizy/workspace/project/project/datasets/English/'\n",
    "data_x = np.zeros((74107, 1, 32, 32))\n",
    "data_y = np.ones((74107, )).astype('int32')\n",
    "from scipy.misc import imread, imresize\n",
    "for idx, path in enumerate(data[0]):\n",
    "    img = imread(root + path)\n",
    "    img = imresize(img, (32, 32))\n",
    "    if len(img.shape) == 3:\n",
    "        data_x[idx, ...] = img.dot([0.299, 0.587, 0.144])\n",
    "    else:\n",
    "        data_x[idx, ...] = img\n",
    "        \n",
    "data_x = data_x.astype('float32')\n",
    "train1_x, test1_x, train1_y, test1_y = train_test_split(data_x, data_y, test_size = 0.2)"
   ]
  },
  {
   "cell_type": "code",
   "execution_count": 5,
   "metadata": {
    "collapsed": false
   },
   "outputs": [
    {
     "data": {
      "text/plain": [
       "((59285, 1, 32, 32), (14822, 1, 32, 32))"
      ]
     },
     "execution_count": 5,
     "metadata": {},
     "output_type": "execute_result"
    }
   ],
   "source": [
    "train1_x.shape, test1_x.shape"
   ]
  },
  {
   "cell_type": "code",
   "execution_count": 6,
   "metadata": {
    "collapsed": false
   },
   "outputs": [],
   "source": [
    "# preprocess\n",
    "# cifar\n",
    "train2_images /= train2_images.std(axis = None)\n",
    "train2_images -= train2_images.mean()\n",
    "\n",
    "test2_images /= test2_images.std(axis = None)\n",
    "test2_images -= test2_images.mean()\n",
    "\n",
    "# chars74k\n",
    "train1_x /= train1_x.std(axis = None)\n",
    "train1_x -= train1_x.mean()\n",
    "\n",
    "test1_x /= test1_x.std(axis = None)\n",
    "test1_x -= test1_x.mean()"
   ]
  },
  {
   "cell_type": "code",
   "execution_count": 8,
   "metadata": {
    "collapsed": true
   },
   "outputs": [],
   "source": [
    "# reshape dataset\n",
    "# cifar\n",
    "# grayscaling and cropping to size\n",
    "train2_x_rgb = train2_images.reshape(-1, 3, 32, 32).transpose(0, 2, 3, 1)\n",
    "\n",
    "train2_x = np.zeros((10000, 1, 32, 32))\n",
    "for i in range(10000):\n",
    "    train2_x[i, :, :, :] = np.dot(train2_x_rgb[i, :, :, :], [0.299, 0.587, 0.144])\n",
    "\n",
    "test2_x_rgb = test2_images.reshape(-1, 3, 32, 32).transpose(0, 2, 3, 1)\n",
    "\n",
    "test2_x = np.zeros((10000, 1, 32, 32))\n",
    "for i in range(10000):\n",
    "    test2_x[i, :, :, :] = np.dot(test2_x_rgb[i, :, :, :], [0.299, 0.587, 0.144])"
   ]
  },
  {
   "cell_type": "code",
   "execution_count": 11,
   "metadata": {
    "collapsed": false
   },
   "outputs": [],
   "source": [
    "# finally\n",
    "train_x = np.vstack((train1_x, train2_x))\n",
    "\n",
    "train_y = np.concatenate([train1_y, train2_y])\n",
    "\n",
    "test_x = np.vstack((test1_x, test2_x))\n",
    "\n",
    "test_y = np.concatenate([test1_y, np.zeros((10000,))])\n",
    "\n",
    "#TODO shuffle train-test"
   ]
  },
  {
   "cell_type": "code",
   "execution_count": 12,
   "metadata": {
    "collapsed": false
   },
   "outputs": [],
   "source": [
    "# check again\n",
    "train_x = train_x.astype('float32')\n",
    "train_y = train_y.astype('int32')\n",
    "test_x = test_x.astype('float32')\n",
    "test_y = test_y.astype('int32')"
   ]
  },
  {
   "cell_type": "code",
   "execution_count": 20,
   "metadata": {
    "collapsed": true
   },
   "outputs": [],
   "source": [
    "# setting nn \n",
    "net = NeuralNet(\n",
    "    layers = [\n",
    "        ('input', layers.InputLayer),\n",
    "        ('conv1', layers.Conv2DLayer),\n",
    "        ('pool1', layers.MaxPool2DLayer),\n",
    "        ('dropout1', layers.DropoutLayer),\n",
    "        ('conv2', layers.Conv2DLayer),\n",
    "        ('pool2', layers.MaxPool2DLayer),\n",
    "        ('dropout2', layers.DropoutLayer),\n",
    "        ('hidden3', layers.DenseLayer),\n",
    "        ('output', layers.DenseLayer),\n",
    "    ],\n",
    "\n",
    "    input_shape = (None, 1, 32, 32),\n",
    "    conv1_num_filters = 32, conv1_filter_size = (3, 3),\n",
    "    pool1_pool_size = (2, 2),\n",
    "    dropout1_p = 0.2,\n",
    "    conv2_num_filters = 64, conv2_filter_size = (2, 2),\n",
    "    pool2_pool_size = (2, 2),\n",
    "    dropout2_p = 0.2,\n",
    "    hidden3_num_units = 100,\n",
    "    output_num_units = 2, output_nonlinearity = softmax,\n",
    "\n",
    "    batch_iterator_train = BatchIterator(batch_size = 2500),\n",
    "    batch_iterator_test = BatchIterator(batch_size = 2500),\n",
    "\n",
    "    update=nesterov_momentum,\n",
    "    update_learning_rate = 0.003,\n",
    "    update_momentum = 0.9,\n",
    "\n",
    "    use_label_encoder = True,\n",
    "    regression = False,\n",
    "    max_epochs = 50,\n",
    "    verbose = 1,\n",
    ")"
   ]
  },
  {
   "cell_type": "code",
   "execution_count": 21,
   "metadata": {
    "collapsed": false
   },
   "outputs": [
    {
     "name": "stdout",
     "output_type": "stream",
     "text": [
      "# Neural Network with 322478 learnable parameters\n",
      "\n",
      "## Layer information\n",
      "\n",
      "  #  name      size\n",
      "---  --------  --------\n",
      "  0  input     1x32x32\n",
      "  1  conv1     32x30x30\n",
      "  2  pool1     32x15x15\n",
      "  3  dropout1  32x15x15\n",
      "  4  conv2     64x14x14\n",
      "  5  pool2     64x7x7\n",
      "  6  dropout2  64x7x7\n",
      "  7  hidden3   100\n",
      "  8  output    2\n",
      "\n",
      "  epoch    train loss    valid loss    train/val    valid acc  dur\n",
      "-------  ------------  ------------  -----------  -----------  ------\n",
      "      1       \u001b[36m0.79816\u001b[0m       \u001b[32m0.48107\u001b[0m      1.65913      0.79047  35.48s\n",
      "      2       \u001b[36m0.57631\u001b[0m       \u001b[32m0.45266\u001b[0m      1.27316      0.79047  33.96s\n",
      "      3       \u001b[36m0.43580\u001b[0m       \u001b[32m0.34504\u001b[0m      1.26304      0.79047  33.00s\n",
      "      4       \u001b[36m0.33242\u001b[0m       \u001b[32m0.31773\u001b[0m      1.04624      0.79020  33.34s\n",
      "      5       \u001b[36m0.29619\u001b[0m       \u001b[32m0.28824\u001b[0m      1.02757      0.79447  33.01s\n",
      "      6       \u001b[36m0.27080\u001b[0m       \u001b[32m0.27366\u001b[0m      0.98954      0.81661  33.00s\n",
      "      7       \u001b[36m0.25819\u001b[0m       \u001b[32m0.25781\u001b[0m      1.00148      0.84485  33.01s\n",
      "      8       \u001b[36m0.24596\u001b[0m       \u001b[32m0.24614\u001b[0m      0.99929      0.87156  33.00s\n",
      "      9       \u001b[36m0.23792\u001b[0m       \u001b[32m0.23633\u001b[0m      1.00670      0.88602  33.00s\n",
      "     10       \u001b[36m0.22872\u001b[0m       \u001b[32m0.22741\u001b[0m      1.00573      0.89509  33.00s\n",
      "     11       \u001b[36m0.22110\u001b[0m       \u001b[32m0.21895\u001b[0m      1.00982      0.90514  34.38s\n",
      "     12       \u001b[36m0.21497\u001b[0m       \u001b[32m0.21112\u001b[0m      1.01823      0.91465  33.00s\n",
      "     13       \u001b[36m0.20861\u001b[0m       \u001b[32m0.20388\u001b[0m      1.02320      0.92209  33.01s\n",
      "     14       \u001b[36m0.20295\u001b[0m       \u001b[32m0.19686\u001b[0m      1.03098      0.92681  33.01s\n",
      "     15       \u001b[36m0.19693\u001b[0m       \u001b[32m0.19010\u001b[0m      1.03589      0.93087  33.00s\n",
      "     16       \u001b[36m0.19198\u001b[0m       \u001b[32m0.18362\u001b[0m      1.04552      0.93395  33.00s\n",
      "     17       \u001b[36m0.18665\u001b[0m       \u001b[32m0.17737\u001b[0m      1.05230      0.93755  33.01s\n",
      "     18       \u001b[36m0.18016\u001b[0m       \u001b[32m0.17079\u001b[0m      1.05486      0.94156  33.01s\n",
      "     19       \u001b[36m0.17694\u001b[0m       \u001b[32m0.16506\u001b[0m      1.07201      0.94281  33.01s\n",
      "     20       \u001b[36m0.17123\u001b[0m       \u001b[32m0.15924\u001b[0m      1.07530      0.94485  33.01s\n",
      "     21       \u001b[36m0.16597\u001b[0m       \u001b[32m0.15322\u001b[0m      1.08323      0.94682  33.02s\n",
      "     22       \u001b[36m0.16100\u001b[0m       \u001b[32m0.14700\u001b[0m      1.09524      0.94926  33.00s\n",
      "     23       \u001b[36m0.15504\u001b[0m       \u001b[32m0.14094\u001b[0m      1.10003      0.95224  33.01s\n",
      "     24       \u001b[36m0.15000\u001b[0m       \u001b[32m0.13476\u001b[0m      1.11312      0.95463  33.00s\n",
      "     25       \u001b[36m0.14418\u001b[0m       \u001b[32m0.12907\u001b[0m      1.11703      0.95648  33.01s\n",
      "     26       \u001b[36m0.13904\u001b[0m       \u001b[32m0.12333\u001b[0m      1.12740      0.95794  33.01s\n",
      "     27       \u001b[36m0.13424\u001b[0m       \u001b[32m0.11792\u001b[0m      1.13846      0.96011  33.37s\n",
      "     28       \u001b[36m0.12969\u001b[0m       \u001b[32m0.11270\u001b[0m      1.15072      0.96172  33.01s\n",
      "     29       \u001b[36m0.12380\u001b[0m       \u001b[32m0.10759\u001b[0m      1.15068      0.96309  33.00s\n",
      "     30       \u001b[36m0.12029\u001b[0m       \u001b[32m0.10307\u001b[0m      1.16703      0.96368  33.01s\n",
      "     31       \u001b[36m0.11525\u001b[0m       \u001b[32m0.09884\u001b[0m      1.16598      0.96475  33.01s\n",
      "     32       \u001b[36m0.10957\u001b[0m       \u001b[32m0.09446\u001b[0m      1.15996      0.96600  33.01s\n",
      "     33       \u001b[36m0.10659\u001b[0m       \u001b[32m0.09083\u001b[0m      1.17351      0.96748  33.00s\n",
      "     34       \u001b[36m0.10188\u001b[0m       \u001b[32m0.08746\u001b[0m      1.16485      0.96831  33.01s\n",
      "     35       \u001b[36m0.09867\u001b[0m       \u001b[32m0.08410\u001b[0m      1.17324      0.96901  33.00s\n",
      "     36       \u001b[36m0.09670\u001b[0m       \u001b[32m0.08140\u001b[0m      1.18805      0.96940  33.01s\n",
      "     37       \u001b[36m0.09276\u001b[0m       \u001b[32m0.07881\u001b[0m      1.17693      0.97050  33.01s\n",
      "     38       \u001b[36m0.09053\u001b[0m       \u001b[32m0.07621\u001b[0m      1.18786      0.97084  33.01s\n",
      "     39       \u001b[36m0.08715\u001b[0m       \u001b[32m0.07393\u001b[0m      1.17891      0.97187  33.00s\n",
      "     40       \u001b[36m0.08441\u001b[0m       \u001b[32m0.07160\u001b[0m      1.17889      0.97293  33.00s\n",
      "     41       \u001b[36m0.08218\u001b[0m       \u001b[32m0.06957\u001b[0m      1.18128      0.97351  33.01s\n",
      "     42       \u001b[36m0.08027\u001b[0m       \u001b[32m0.06766\u001b[0m      1.18627      0.97436  33.01s\n",
      "     43       \u001b[36m0.07799\u001b[0m       \u001b[32m0.06587\u001b[0m      1.18388      0.97500  33.01s\n",
      "     44       \u001b[36m0.07559\u001b[0m       \u001b[32m0.06409\u001b[0m      1.17947      0.97567  33.00s\n",
      "     45       \u001b[36m0.07380\u001b[0m       \u001b[32m0.06234\u001b[0m      1.18371      0.97637  33.00s\n",
      "     46       \u001b[36m0.07198\u001b[0m       \u001b[32m0.06086\u001b[0m      1.18260      0.97683  33.01s\n",
      "     47       \u001b[36m0.07064\u001b[0m       \u001b[32m0.05938\u001b[0m      1.18971      0.97760  33.01s\n",
      "     48       \u001b[36m0.06849\u001b[0m       \u001b[32m0.05793\u001b[0m      1.18234      0.97887  33.01s\n",
      "     49       \u001b[36m0.06727\u001b[0m       \u001b[32m0.05649\u001b[0m      1.19079      0.97935  33.00s\n",
      "     50       \u001b[36m0.06551\u001b[0m       \u001b[32m0.05525\u001b[0m      1.18562      0.98061  37.08s\n"
     ]
    }
   ],
   "source": [
    "# train and test nn\n",
    "net.fit(train_x, train_y)\n",
    "pred = net.predict(test_x)"
   ]
  },
  {
   "cell_type": "code",
   "execution_count": 23,
   "metadata": {
    "collapsed": false
   },
   "outputs": [
    {
     "name": "stdout",
     "output_type": "stream",
     "text": [
      "--------------\n",
      "It is NOT a character\n"
     ]
    },
    {
     "data": {
      "image/png": "[encoded data removed]",
      "text/plain": [
       "<matplotlib.figure.Figure at 0x7f3df0168d10>"
      ]
     },
     "metadata": {},
     "output_type": "display_data"
    }
   ],
   "source": [
    "# visualize output\n",
    "%matplotlib inline\n",
    "i = random.randrange(14823, 24822)\n",
    "img = test_x[i, :]\n",
    "img = img.reshape(32, 32)\n",
    "pylab.imshow(img)\n",
    "pylab.gray()\n",
    "pylab.axis('off')\n",
    "print '--------------'\n",
    "if pred[i] == 1:\n",
    "    print \"It is a character\"\n",
    "else:\n",
    "    print \"It is NOT a character\""
   ]
  },
  {
   "cell_type": "code",
   "execution_count": 24,
   "metadata": {
    "collapsed": false
   },
   "outputs": [
    {
     "name": "stdout",
     "output_type": "stream",
     "text": [
      "--------------\n",
      "It is a character\n"
     ]
    },
    {
     "data": {
      "image/png": "[encoded data removed]",
      "text/plain": [
       "<matplotlib.figure.Figure at 0x7f3db32094d0>"
      ]
     },
     "metadata": {},
     "output_type": "display_data"
    }
   ],
   "source": [
    "# visualize output\n",
    "%matplotlib inline\n",
    "i = random.randrange(0, 14822)\n",
    "img = test_x[i, :]\n",
    "img = img.reshape(32, 32)\n",
    "pylab.imshow(img)\n",
    "pylab.gray()\n",
    "pylab.axis('off')\n",
    "print '--------------'\n",
    "if pred[i] == 1:\n",
    "    print \"It is a character\"\n",
    "else:\n",
    "    print \"It is NOT a character\""
   ]
  },
  {
   "cell_type": "code",
   "execution_count": 25,
   "metadata": {
    "collapsed": false
   },
   "outputs": [],
   "source": [
    "from sklearn.metrics import accuracy_score, classification_report"
   ]
  },
  {
   "cell_type": "code",
   "execution_count": 26,
   "metadata": {
    "collapsed": false
   },
   "outputs": [
    {
     "name": "stdout",
     "output_type": "stream",
     "text": [
      "             precision    recall  f1-score   support\n",
      "\n",
      "          0       0.98      0.95      0.96     10000\n",
      "          1       0.97      0.99      0.98     14822\n",
      "\n",
      "avg / total       0.97      0.97      0.97     24822\n",
      "\n"
     ]
    }
   ],
   "source": [
    "print classification_report(test_y, pred)"
   ]
  },
  {
   "cell_type": "code",
   "execution_count": 27,
   "metadata": {
    "collapsed": false
   },
   "outputs": [
    {
     "data": {
      "text/plain": [
       "(24822, 1, 32, 32)"
      ]
     },
     "execution_count": 27,
     "metadata": {},
     "output_type": "execute_result"
    }
   ],
   "source": [
    "test_x.shape"
   ]
  },
  {
   "cell_type": "code",
   "execution_count": 28,
   "metadata": {
    "collapsed": false
   },
   "outputs": [
    {
     "data": {
      "text/plain": [
       "(14822, 1, 32, 32)"
      ]
     },
     "execution_count": 28,
     "metadata": {},
     "output_type": "execute_result"
    }
   ],
   "source": [
    "test1_x.shape"
   ]
  },
  {
   "cell_type": "code",
   "execution_count": null,
   "metadata": {
    "collapsed": true
   },
   "outputs": [],
   "source": []
  }
 ],
 "metadata": {
  "kernelspec": {
   "display_name": "Python 2",
   "language": "python",
   "name": "python2"
  },
  "language_info": {
   "codemirror_mode": {
    "name": "ipython",
    "version": 2
   },
   "file_extension": ".py",
   "mimetype": "text/x-python",
   "name": "python",
   "nbconvert_exporter": "python",
   "pygments_lexer": "ipython2",
   "version": "2.7.11"
  }
 },
 "nbformat": 4,
 "nbformat_minor": 0
}
